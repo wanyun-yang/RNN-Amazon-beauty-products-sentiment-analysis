{
  "nbformat": 4,
  "nbformat_minor": 0,
  "metadata": {
    "colab": {
      "name": "Mengyuan_Jin_lab1 .ipynb",
      "provenance": [],
      "toc_visible": true
    },
    "kernelspec": {
      "name": "python3",
      "display_name": "Python 3"
    }
  },
  "cells": [
    {
      "cell_type": "code",
      "metadata": {
        "id": "rQBfnhkDXnrE",
        "colab": {
          "base_uri": "https://localhost:8080/",
          "height": 221
        },
        "outputId": "d3790704-bf86-425e-9a50-28ae398efa72"
      },
      "source": [
        "#Load text data and convert the label/sentiment into corresponding numerical values:'\n",
        "#possible packages needs, Pandas, Numpy\n",
        "\n",
        "import pandas as pd\n",
        "import numpy as np\n",
        "\n",
        "\n",
        "#read the training data\n",
        "fname='beauty.csv'\n",
        "df_train = pd.read_csv(fname, header=None,names=['text','sentiment'], encoding='iso-8859-1',lineterminator='\\n')\n",
        "sent = {'pos':1,'neg':0}\n",
        "df_train['labels'] =  df_train['sentiment'].str.strip().map(sent)\n",
        "\n",
        "\n",
        "\n",
        "#get texts and labels\n",
        "training_texts = df_train.text.values\n",
        "labels = df_train.labels.values\n",
        "# now these  values extracted are in numpy array\n",
        "print(type(training_texts),type(labels))\n",
        "\n",
        "# the dimension of x is 1999*1 and the dimension of y is 1999*1\n",
        "\n",
        "\n",
        "#show the first 5 records\n",
        "df_train.head()"
      ],
      "execution_count": null,
      "outputs": [
        {
          "output_type": "stream",
          "text": [
            "<class 'numpy.ndarray'> <class 'numpy.ndarray'>\n"
          ],
          "name": "stdout"
        },
        {
          "output_type": "execute_result",
          "data": {
            "text/html": [
              "<div>\n",
              "<style scoped>\n",
              "    .dataframe tbody tr th:only-of-type {\n",
              "        vertical-align: middle;\n",
              "    }\n",
              "\n",
              "    .dataframe tbody tr th {\n",
              "        vertical-align: top;\n",
              "    }\n",
              "\n",
              "    .dataframe thead th {\n",
              "        text-align: right;\n",
              "    }\n",
              "</style>\n",
              "<table border=\"1\" class=\"dataframe\">\n",
              "  <thead>\n",
              "    <tr style=\"text-align: right;\">\n",
              "      <th></th>\n",
              "      <th>text</th>\n",
              "      <th>sentiment</th>\n",
              "      <th>labels</th>\n",
              "    </tr>\n",
              "  </thead>\n",
              "  <tbody>\n",
              "    <tr>\n",
              "      <th>NaN</th>\n",
              "      <td>reviewText</td>\n",
              "      <td>attitude</td>\n",
              "      <td>NaN</td>\n",
              "    </tr>\n",
              "    <tr>\n",
              "      <th>0.0</th>\n",
              "      <td>As advertised. Reasonably priced</td>\n",
              "      <td>pos</td>\n",
              "      <td>1.0</td>\n",
              "    </tr>\n",
              "    <tr>\n",
              "      <th>1.0</th>\n",
              "      <td>Like the oder and the feel when I put it on my...</td>\n",
              "      <td>pos</td>\n",
              "      <td>1.0</td>\n",
              "    </tr>\n",
              "    <tr>\n",
              "      <th>2.0</th>\n",
              "      <td>I bought this to smell nice after I shave.  Wh...</td>\n",
              "      <td>neg</td>\n",
              "      <td>0.0</td>\n",
              "    </tr>\n",
              "    <tr>\n",
              "      <th>3.0</th>\n",
              "      <td>HEY!! I am an Aqua Velva Man and absolutely lo...</td>\n",
              "      <td>pos</td>\n",
              "      <td>1.0</td>\n",
              "    </tr>\n",
              "  </tbody>\n",
              "</table>\n",
              "</div>"
            ],
            "text/plain": [
              "                                                  text sentiment  labels\n",
              "NaN                                         reviewText  attitude     NaN\n",
              "0.0                   As advertised. Reasonably priced       pos     1.0\n",
              "1.0  Like the oder and the feel when I put it on my...       pos     1.0\n",
              "2.0  I bought this to smell nice after I shave.  Wh...       neg     0.0\n",
              "3.0  HEY!! I am an Aqua Velva Man and absolutely lo...       pos     1.0"
            ]
          },
          "metadata": {
            "tags": []
          },
          "execution_count": 6
        }
      ]
    },
    {
      "cell_type": "code",
      "metadata": {
        "id": "DMIB0sfi-d8l"
      },
      "source": [
        "df_train = df_train.dropna()\n",
        "#df_train.drop(df_train.index[0])"
      ],
      "execution_count": null,
      "outputs": []
    },
    {
      "cell_type": "code",
      "metadata": {
        "colab": {
          "base_uri": "https://localhost:8080/",
          "height": 221
        },
        "id": "84J2GYhWEMn-",
        "outputId": "bfbe4efe-3655-4ef6-cb7c-1576bb8deb8d"
      },
      "source": [
        "\n",
        "#get texts and labels\n",
        "training_texts = df_train.text.values\n",
        "labels = df_train.labels.values\n",
        "# now these  values extracted are in numpy array\n",
        "print(type(training_texts),type(labels))\n",
        "\n",
        "# the dimension of x is 1999*1 and the dimension of y is 1999*1\n",
        "\n",
        "\n",
        "#show the first 5 records\n",
        "df_train.head()"
      ],
      "execution_count": null,
      "outputs": [
        {
          "output_type": "stream",
          "text": [
            "<class 'numpy.ndarray'> <class 'numpy.ndarray'>\n"
          ],
          "name": "stdout"
        },
        {
          "output_type": "execute_result",
          "data": {
            "text/html": [
              "<div>\n",
              "<style scoped>\n",
              "    .dataframe tbody tr th:only-of-type {\n",
              "        vertical-align: middle;\n",
              "    }\n",
              "\n",
              "    .dataframe tbody tr th {\n",
              "        vertical-align: top;\n",
              "    }\n",
              "\n",
              "    .dataframe thead th {\n",
              "        text-align: right;\n",
              "    }\n",
              "</style>\n",
              "<table border=\"1\" class=\"dataframe\">\n",
              "  <thead>\n",
              "    <tr style=\"text-align: right;\">\n",
              "      <th></th>\n",
              "      <th>text</th>\n",
              "      <th>sentiment</th>\n",
              "      <th>labels</th>\n",
              "    </tr>\n",
              "  </thead>\n",
              "  <tbody>\n",
              "    <tr>\n",
              "      <th>0.0</th>\n",
              "      <td>As advertised. Reasonably priced</td>\n",
              "      <td>pos</td>\n",
              "      <td>1.0</td>\n",
              "    </tr>\n",
              "    <tr>\n",
              "      <th>1.0</th>\n",
              "      <td>Like the oder and the feel when I put it on my...</td>\n",
              "      <td>pos</td>\n",
              "      <td>1.0</td>\n",
              "    </tr>\n",
              "    <tr>\n",
              "      <th>2.0</th>\n",
              "      <td>I bought this to smell nice after I shave.  Wh...</td>\n",
              "      <td>neg</td>\n",
              "      <td>0.0</td>\n",
              "    </tr>\n",
              "    <tr>\n",
              "      <th>3.0</th>\n",
              "      <td>HEY!! I am an Aqua Velva Man and absolutely lo...</td>\n",
              "      <td>pos</td>\n",
              "      <td>1.0</td>\n",
              "    </tr>\n",
              "    <tr>\n",
              "      <th>4.0</th>\n",
              "      <td>If you ever want to feel pampered by a shampoo...</td>\n",
              "      <td>pos</td>\n",
              "      <td>1.0</td>\n",
              "    </tr>\n",
              "  </tbody>\n",
              "</table>\n",
              "</div>"
            ],
            "text/plain": [
              "                                                  text sentiment  labels\n",
              "0.0                   As advertised. Reasonably priced       pos     1.0\n",
              "1.0  Like the oder and the feel when I put it on my...       pos     1.0\n",
              "2.0  I bought this to smell nice after I shave.  Wh...       neg     0.0\n",
              "3.0  HEY!! I am an Aqua Velva Man and absolutely lo...       pos     1.0\n",
              "4.0  If you ever want to feel pampered by a shampoo...       pos     1.0"
            ]
          },
          "metadata": {
            "tags": []
          },
          "execution_count": 8
        }
      ]
    },
    {
      "cell_type": "code",
      "metadata": {
        "id": "zuUDBeKy4KRt",
        "colab": {
          "base_uri": "https://localhost:8080/"
        },
        "outputId": "f99f3237-2d58-48df-d9b4-67c31e31ce0f"
      },
      "source": [
        "#Preporcess Data\n",
        "\n",
        "#Preprocess the loaded textual data, including remove stop words, stemming and tokenization, etc\n",
        "#Present each document (i.e comments) using TF/IDF strategy, the features are the top frequent unigrams across all comments\n",
        "#possible packages you might need are: scikit-learn, numpy.\n",
        "from sklearn.feature_extraction.text import TfidfVectorizer\n",
        "\n",
        "\n",
        "\n",
        "#tokenize and create a document-feature matrix X and label vector Y.\n",
        "vectorizer = TfidfVectorizer(stop_words='english',max_features=30, ngram_range=(1,1))\n",
        "#the above code means set that to use top 500 frequent unigrams as my features \n",
        "#for ngram_range, if we put both 1,1 its only, unigram. if put 1,2. its combination of uni and bi gram. fo 2,2 only bigram.\n",
        "\n",
        "instances = vectorizer.fit_transform(training_texts) # this is sparse matrix we want to transform this to numpy array for tensor later.\n",
        "X = instances.toarray()\n",
        "Y = labels\n",
        "\n",
        "#print out the shape of X and Y\n",
        "print(X.shape,\",\",Y.shape)\n",
        "print(Y[:10])\n",
        "print(X[0,:50])\n",
        "\n",
        "\n"
      ],
      "execution_count": null,
      "outputs": [
        {
          "output_type": "stream",
          "text": [
            "(5264, 30) , (5264,)\n",
            "[1. 1. 0. 1. 1. 1. 1. 0. 0. 0.]\n",
            "[0. 0. 0. 0. 0. 0. 0. 0. 0. 0. 0. 0. 0. 0. 0. 0. 0. 0. 0. 0. 0. 0. 0. 0.\n",
            " 0. 0. 0. 0. 0. 0.]\n"
          ],
          "name": "stdout"
        }
      ]
    },
    {
      "cell_type": "markdown",
      "metadata": {
        "id": "BqOQ-mtG2T-R"
      },
      "source": [
        "bold text# Traditional Machine learning models: Random Forest\n"
      ]
    },
    {
      "cell_type": "code",
      "metadata": {
        "id": "z7ZANyAnbS6R",
        "colab": {
          "base_uri": "https://localhost:8080/"
        },
        "outputId": "58d10406-146c-4d9d-d6c3-1905987adcf1"
      },
      "source": [
        "#using 10-fold cross-validation to show the prediction accuracy.\n",
        "#using 9 fold as training and 1 as validation and repeat 10 times and get average.\n",
        "#possible package need: scikit-learn, numpy\n",
        "\n",
        "from sklearn.model_selection import KFold\n",
        "from sklearn.ensemble import RandomForestClassifier\n",
        "\n",
        "kfold= KFold(n_splits=10,shuffle=True,random_state=2020)\n",
        "rf_model =  RandomForestClassifier(n_estimators=1,criterion='entropy',max_depth=2, random_state=2020)\n",
        "#the above just created an empty model, next step is to train the model\n",
        "rf_cvscores =[]\n",
        "\n",
        "for train_idx, val_idx in kfold.split(X):\n",
        "  rf_model.fit(X[train_idx],Y[train_idx])\n",
        "  acc=rf_model.score(X[val_idx],Y[val_idx])\n",
        "  rf_cvscores.append(acc)\n",
        "\n",
        "print(\"Random Forest - mean: %.4f%%  (std:  +/-  %.4f%%)\" % (np.mean(rf_cvscores)*100, np.std(rf_cvscores)*100))\n",
        "\n",
        "\n",
        "\n",
        "\n"
      ],
      "execution_count": null,
      "outputs": [
        {
          "output_type": "stream",
          "text": [
            "Random Forest - mean: 94.3579%  (std:  +/-  1.2259%)\n"
          ],
          "name": "stdout"
        }
      ]
    }
  ]
}